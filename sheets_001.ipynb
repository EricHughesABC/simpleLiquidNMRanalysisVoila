{
 "cells": [
  {
   "cell_type": "code",
   "execution_count": 5,
   "metadata": {},
   "outputs": [],
   "source": [
    "%matplotlib widget"
   ]
  },
  {
   "cell_type": "code",
   "execution_count": 6,
   "metadata": {},
   "outputs": [],
   "source": [
    "import matplotlib as mpl\n",
    "from matplotlib.gridspec import GridSpec\n",
    "\n",
    "import pickle\n",
    "\n",
    "import matplotlib.pyplot as plt\n",
    "import numpy as np\n",
    "import pandas as pd\n",
    "import scipy\n",
    "from scipy import stats\n",
    "# import seaborn as sns\n",
    "\n",
    "import ipywidgets\n",
    "from ipywidgets import widgets\n",
    "# from IPython.display import display\n",
    "\n",
    "\n",
    "import os\n",
    "import mplcursors\n",
    "# import re\n",
    "\n",
    "import nmrProblem_28122020 as nmrProblem\n",
    "\n",
    "import nmrglue as ng\n",
    "\n",
    "import tempfile\n",
    "import io\n",
    "import ipysheet\n",
    "from ipysheet import from_dataframe, to_dataframe"
   ]
  },
  {
   "cell_type": "code",
   "execution_count": null,
   "metadata": {},
   "outputs": [],
   "source": []
  },
  {
   "cell_type": "code",
   "execution_count": 7,
   "metadata": {},
   "outputs": [],
   "source": [
    "df_dict = {'ppm': {'integral': '',\n",
    "  'symmetry': '',\n",
    "  'symmetry factor': '',\n",
    "  'J type': '',\n",
    "  'J Hz': '',\n",
    "  'C13 hyb': '',\n",
    "  'attached protons': '',\n",
    "  'ppm': '',\n",
    "  'H4': 1.19,\n",
    "  'H3': 2.27,\n",
    "  'H2': 2.4,\n",
    "  'H1': 4.15,\n",
    "  'C4': 19.0,\n",
    "  'C3': 49.0,\n",
    "  'C2': 68.0,\n",
    "  'C1': 184.0,\n",
    "  'hsqc': '',\n",
    "  'hmbc': '',\n",
    "  'cosy': ''},\n",
    " 'H1': {'integral': 1,\n",
    "  'symmetry': '',\n",
    "  'symmetry factor': '',\n",
    "  'J type': 'tq',\n",
    "  'J Hz': [6.0, 10.0],\n",
    "  'C13 hyb': 1,\n",
    "  'attached protons': '',\n",
    "  'ppm': 4.15,\n",
    "  'H4': 'o',\n",
    "  'H3': 'o',\n",
    "  'H2': 'o',\n",
    "  'H1': '',\n",
    "  'C4': '',\n",
    "  'C3': 'x',\n",
    "  'C2': 'o',\n",
    "  'C1': 'x',\n",
    "  'hsqc': ['C2'],\n",
    "  'hmbc': ['C1', 'C3'],\n",
    "  'cosy': ['H2', 'H3', 'H4']},\n",
    " 'H2': {'integral': 1,\n",
    "  'symmetry': '',\n",
    "  'symmetry factor': '',\n",
    "  'J type': 'dd',\n",
    "  'J Hz': [6.0, 3.0],\n",
    "  'C13 hyb': 2,\n",
    "  'attached protons': '',\n",
    "  'ppm': 2.4,\n",
    "  'H4': '',\n",
    "  'H3': 'o',\n",
    "  'H2': '',\n",
    "  'H1': 'o',\n",
    "  'C4': 'x',\n",
    "  'C3': 'o',\n",
    "  'C2': 'x',\n",
    "  'C1': 'x',\n",
    "  'hsqc': ['C3'],\n",
    "  'hmbc': ['C1', 'C2', 'C4'],\n",
    "  'cosy': ['H1', 'H3']},\n",
    " 'H3': {'integral': 1,\n",
    "  'symmetry': '',\n",
    "  'symmetry factor': '',\n",
    "  'J type': 'dd',\n",
    "  'J Hz': [6.0, 3.0],\n",
    "  'C13 hyb': 2,\n",
    "  'attached protons': '',\n",
    "  'ppm': 2.27,\n",
    "  'H4': '',\n",
    "  'H3': '',\n",
    "  'H2': 'o',\n",
    "  'H1': 'o',\n",
    "  'C4': 'x',\n",
    "  'C3': 'o',\n",
    "  'C2': 'x',\n",
    "  'C1': 'x',\n",
    "  'hsqc': ['C3'],\n",
    "  'hmbc': ['C1', 'C2', 'C4'],\n",
    "  'cosy': ['H1', 'H2']},\n",
    " 'H4': {'integral': 3,\n",
    "  'symmetry': '',\n",
    "  'symmetry factor': '',\n",
    "  'J type': 'd',\n",
    "  'J Hz': [10.0],\n",
    "  'C13 hyb': 3,\n",
    "  'attached protons': '',\n",
    "  'ppm': 1.19,\n",
    "  'H4': '',\n",
    "  'H3': '',\n",
    "  'H2': '',\n",
    "  'H1': 'o',\n",
    "  'C4': 'o',\n",
    "  'C3': 'x',\n",
    "  'C2': 'x',\n",
    "  'C1': '',\n",
    "  'hsqc': ['C4'],\n",
    "  'hmbc': ['C2', 'C3'],\n",
    "  'cosy': ['H1']},\n",
    " 'C1': {'integral': 1,\n",
    "  'symmetry': '',\n",
    "  'symmetry factor': '',\n",
    "  'J type': 's',\n",
    "  'J Hz': [0.0],\n",
    "  'C13 hyb': 0,\n",
    "  'attached protons': 0,\n",
    "  'ppm': 184.0,\n",
    "  'H4': '',\n",
    "  'H3': 'x',\n",
    "  'H2': 'x',\n",
    "  'H1': 'x',\n",
    "  'C4': '',\n",
    "  'C3': '',\n",
    "  'C2': '',\n",
    "  'C1': '',\n",
    "  'hsqc': [],\n",
    "  'hmbc': ['H1', 'H2', 'H3'],\n",
    "  'cosy': ''},\n",
    " 'C2': {'integral': 1,\n",
    "  'symmetry': '',\n",
    "  'symmetry factor': '',\n",
    "  'J type': 's',\n",
    "  'J Hz': [0.0],\n",
    "  'C13 hyb': 1,\n",
    "  'attached protons': 1,\n",
    "  'ppm': 68.0,\n",
    "  'H4': 'x',\n",
    "  'H3': 'x',\n",
    "  'H2': 'x',\n",
    "  'H1': 'o',\n",
    "  'C4': '',\n",
    "  'C3': '',\n",
    "  'C2': '',\n",
    "  'C1': '',\n",
    "  'hsqc': ['H1'],\n",
    "  'hmbc': ['H2', 'H3', 'H4'],\n",
    "  'cosy': ''},\n",
    " 'C3': {'integral': 1,\n",
    "  'symmetry': '',\n",
    "  'symmetry factor': '',\n",
    "  'J type': 's',\n",
    "  'J Hz': [0.0],\n",
    "  'C13 hyb': 2,\n",
    "  'attached protons': 2,\n",
    "  'ppm': 49.0,\n",
    "  'H4': 'x',\n",
    "  'H3': 'o',\n",
    "  'H2': 'o',\n",
    "  'H1': 'x',\n",
    "  'C4': '',\n",
    "  'C3': '',\n",
    "  'C2': '',\n",
    "  'C1': '',\n",
    "  'hsqc': ['H2', 'H3'],\n",
    "  'hmbc': ['H1', 'H4'],\n",
    "  'cosy': ''},\n",
    " 'C4': {'integral': 1,\n",
    "  'symmetry': '',\n",
    "  'symmetry factor': '',\n",
    "  'J type': 's',\n",
    "  'J Hz': [0.0],\n",
    "  'C13 hyb': 3,\n",
    "  'attached protons': 3,\n",
    "  'ppm': 19.0,\n",
    "  'H4': 'o',\n",
    "  'H3': 'x',\n",
    "  'H2': 'x',\n",
    "  'H1': '',\n",
    "  'C4': '',\n",
    "  'C3': '',\n",
    "  'C2': '',\n",
    "  'C1': '',\n",
    "  'hsqc': ['H4'],\n",
    "  'hmbc': ['H2', 'H3'],\n",
    "  'cosy': ''}}\n"
   ]
  },
  {
   "cell_type": "code",
   "execution_count": 8,
   "metadata": {},
   "outputs": [
    {
     "data": {
      "application/vnd.jupyter.widget-view+json": {
       "model_id": "16080bd5045b49f09d2ac3bbaae3558d",
       "version_major": 2,
       "version_minor": 0
      },
      "text/plain": [
       "Sheet(cells=(Cell(column_end=0, column_start=0, numeric_format=None, row_end=18, row_start=0, squeeze_row=Fals…"
      ]
     },
     "metadata": {},
     "output_type": "display_data"
    }
   ],
   "source": [
    "from_dataframe(pd.DataFrame(df_dict))"
   ]
  },
  {
   "cell_type": "code",
   "execution_count": null,
   "metadata": {},
   "outputs": [],
   "source": [
    "df =  pd.DataFrame(df_dict)"
   ]
  },
  {
   "cell_type": "code",
   "execution_count": null,
   "metadata": {},
   "outputs": [],
   "source": [
    "sheets= []\n",
    "sheets.append(from_dataframe(df))\n",
    "sheets[0]"
   ]
  },
  {
   "cell_type": "code",
   "execution_count": null,
   "metadata": {},
   "outputs": [],
   "source": [
    "sheets.append(from_dataframe(df[['H1','H2','H3','H4']]))"
   ]
  },
  {
   "cell_type": "code",
   "execution_count": null,
   "metadata": {},
   "outputs": [],
   "source": [
    "title = widgets.Label(\"DataFrame\")\n",
    "vbox = widgets.VBox([title, from_dataframe(df)])\n",
    "vbox"
   ]
  },
  {
   "cell_type": "code",
   "execution_count": null,
   "metadata": {},
   "outputs": [],
   "source": [
    "vbox.children = [title, from_dataframe(df[['H1','H2','H3','H4']])]"
   ]
  },
  {
   "cell_type": "code",
   "execution_count": null,
   "metadata": {},
   "outputs": [],
   "source": [
    "to_dataframe(sheets[1])"
   ]
  },
  {
   "cell_type": "code",
   "execution_count": null,
   "metadata": {},
   "outputs": [],
   "source": [
    "to_dataframe(vbox.children[-1])"
   ]
  },
  {
   "cell_type": "code",
   "execution_count": null,
   "metadata": {},
   "outputs": [],
   "source": [
    "type(sheets[-1])"
   ]
  },
  {
   "cell_type": "code",
   "execution_count": null,
   "metadata": {},
   "outputs": [],
   "source": [
    "sheets[0].cells"
   ]
  },
  {
   "cell_type": "code",
   "execution_count": null,
   "metadata": {},
   "outputs": [],
   "source": [
    "for c in sheets[0].cells:\n",
    "    print(c)"
   ]
  },
  {
   "cell_type": "code",
   "execution_count": null,
   "metadata": {},
   "outputs": [],
   "source": []
  }
 ],
 "metadata": {
  "kernelspec": {
   "display_name": "Python 3",
   "language": "python",
   "name": "python3"
  },
  "language_info": {
   "codemirror_mode": {
    "name": "ipython",
    "version": 3
   },
   "file_extension": ".py",
   "mimetype": "text/x-python",
   "name": "python",
   "nbconvert_exporter": "python",
   "pygments_lexer": "ipython3",
   "version": "3.8.5"
  }
 },
 "nbformat": 4,
 "nbformat_minor": 4
}
