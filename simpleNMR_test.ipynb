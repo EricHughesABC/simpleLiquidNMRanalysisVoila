{
 "cells": [
  {
   "cell_type": "code",
   "execution_count": 8,
   "metadata": {},
   "outputs": [],
   "source": [
    "%matplotlib widget"
   ]
  },
  {
   "cell_type": "code",
   "execution_count": 9,
   "metadata": {},
   "outputs": [],
   "source": [
    "import nmrProblemGUI"
   ]
  },
  {
   "cell_type": "code",
   "execution_count": 10,
   "metadata": {},
   "outputs": [
    {
     "name": "stdout",
     "output_type": "stream",
     "text": [
      "first if statement\n"
     ]
    }
   ],
   "source": [
    "ipwidgetsGUI = nmrProblemGUI.ipywidgetsDisplay()"
   ]
  },
  {
   "cell_type": "code",
   "execution_count": 11,
   "metadata": {
    "scrolled": false
   },
   "outputs": [
    {
     "data": {
      "application/vnd.jupyter.widget-view+json": {
       "model_id": "8bffc3bd20f04e4da72a99964e874441",
       "version_major": 2,
       "version_minor": 0
      },
      "text/plain": [
       "ipywidgetsDisplay(children=(VBox(children=(Accordion(children=(HBox(children=(FileUpload(value={}, description…"
      ]
     },
     "metadata": {},
     "output_type": "display_data"
    }
   ],
   "source": [
    "ipwidgetsGUI"
   ]
  },
  {
   "cell_type": "code",
   "execution_count": null,
   "metadata": {},
   "outputs": [],
   "source": [
    "ipwidgetsGUI.nmrproblem.udic[0]['info'].keys()"
   ]
  },
  {
   "cell_type": "code",
   "execution_count": null,
   "metadata": {},
   "outputs": [],
   "source": [
    "nmrproblem = ipwidgetsGUI.nmrproblem\n",
    "df = nmrproblem.df\n",
    "iprobs = nmrproblem.iprobs"
   ]
  },
  {
   "cell_type": "code",
   "execution_count": null,
   "metadata": {},
   "outputs": [],
   "source": [
    "iprobs['C4']"
   ]
  },
  {
   "cell_type": "code",
   "execution_count": null,
   "metadata": {},
   "outputs": [],
   "source": [
    "C13df_orig.loc[iprobs['C4']]"
   ]
  },
  {
   "cell_type": "code",
   "execution_count": null,
   "metadata": {},
   "outputs": [],
   "source": [
    "C13df_orig[['sF_latex_coloured', 'minCS', 'maxCS']].tail()"
   ]
  },
  {
   "cell_type": "code",
   "execution_count": null,
   "metadata": {},
   "outputs": [],
   "source": [
    "H1df, C13df, probDistFunctions = calcProbDistFunctions(nmrproblem, H1df_orig, C13df_orig)"
   ]
  },
  {
   "cell_type": "code",
   "execution_count": null,
   "metadata": {},
   "outputs": [],
   "source": []
  },
  {
   "cell_type": "code",
   "execution_count": null,
   "metadata": {},
   "outputs": [],
   "source": [
    "ccc = probDistFunctions.loc[iprobs['C2'], 'C2'].head()\n",
    "ccc"
   ]
  },
  {
   "cell_type": "code",
   "execution_count": null,
   "metadata": {},
   "outputs": [],
   "source": [
    "hhh =probDistFunctions.loc[iprobs[df.loc['hsqc', 'C2'][0]], df.loc['hsqc', 'C2'][0]].head()\n",
    "hhh"
   ]
  },
  {
   "cell_type": "code",
   "execution_count": null,
   "metadata": {},
   "outputs": [],
   "source": [
    "df.loc['hsqc', 'C2'][0]"
   ]
  },
  {
   "cell_type": "code",
   "execution_count": null,
   "metadata": {},
   "outputs": [],
   "source": [
    "hset = set(H1df.loc[iprobs['H1']].substituent.head())\n",
    "hset"
   ]
  },
  {
   "cell_type": "code",
   "execution_count": null,
   "metadata": {},
   "outputs": [],
   "source": [
    "cset = set(C13df.loc[iprobs['C2']].substituent.head())\n",
    "cset"
   ]
  },
  {
   "cell_type": "code",
   "execution_count": null,
   "metadata": {},
   "outputs": [],
   "source": [
    "cset.intersection(hset)"
   ]
  },
  {
   "cell_type": "code",
   "execution_count": null,
   "metadata": {},
   "outputs": [],
   "source": [
    "for sub in cset.intersection(hset):\n",
    "    h1 = list(H1df.loc[iprobs['H1']].head()[H1df.loc[iprobs['H1']].head().substituent == sub]['H1'])\n",
    "    c1 = list(C13df.loc[iprobs['C2']].head()[C13df.loc[iprobs['C2']].head().substituent == sub]['C2'])\n",
    "    for h in h1:\n",
    "        for c in c1:\n",
    "#             print(sub, -np.log10(h), -np.log10(c), -np.log10(h*c))\n",
    "            print(sub, h, c, h*c)"
   ]
  },
  {
   "cell_type": "code",
   "execution_count": null,
   "metadata": {},
   "outputs": [],
   "source": [
    "C13df.loc[iprobs['C2']].head()[C13df.loc[iprobs['C2']].head().substituent == 'amide']"
   ]
  },
  {
   "cell_type": "code",
   "execution_count": null,
   "metadata": {},
   "outputs": [],
   "source": [
    "H1df.loc[iprobs['H1']].head()[H1df.loc[iprobs['H1']].head().substituent == 'amide']"
   ]
  },
  {
   "cell_type": "code",
   "execution_count": null,
   "metadata": {},
   "outputs": [],
   "source": [
    "H1df.columns"
   ]
  },
  {
   "cell_type": "code",
   "execution_count": null,
   "metadata": {},
   "outputs": [],
   "source": [
    "H1df_orig.loc[60]"
   ]
  },
  {
   "cell_type": "code",
   "execution_count": null,
   "metadata": {},
   "outputs": [],
   "source": [
    "pd.DataFrame( np.outer(hhh, ccc), columns = list(C13df_orig.loc[nmrproblem.iprobs['C2']].sF_latex_coloured),\n",
    "             index= list(H1df_orig.loc[nmrproblem.iprobs['H1']].sF_latex_coloured))"
   ]
  },
  {
   "cell_type": "code",
   "execution_count": null,
   "metadata": {},
   "outputs": [],
   "source": [
    "np.outer([1,2,3],[1,2])"
   ]
  },
  {
   "cell_type": "code",
   "execution_count": null,
   "metadata": {},
   "outputs": [],
   "source": [
    "\n",
    "M_substituents = ['Li', 'Na', 'K', 'Rb', 'Cs', 'Fr', 'Si', 'Al', 'B']\n",
    "\n",
    "elements = nmrproblem.elements\n",
    "proton_atoms = nmrproblem.protonAtoms\n",
    "carbon_atoms = nmrproblem.carbonAtoms\n",
    "\n",
    "# reduce by DBE\n",
    "DBE = int(nmrproblem.dbe)\n",
    "H1df = H1df[H1df['DBE'] <= DBE]\n",
    "C13df = C13df[C13df['DBE'] <= DBE]\n",
    "\n",
    "freeProtons = elements['H'] - nmrproblem.df.loc['integral',proton_atoms].sum()\n",
    "\n",
    "# If DBE equals 1, is it due to double bond oxygen, Nitrogen, Halogen or alkene ?\n",
    "carbonDBE=False\n",
    "oxygenDBE=False\n",
    "halogenDBE=False\n",
    "nitrogenDBE=False\n",
    "hydroxylsPresent = False\n",
    "numHydroxyls = 0\n",
    "freeOxygens=0\n",
    "elements = nmrproblem.elements\n",
    "freeProtons = elements['H'] - nmrproblem.df.loc['integral',proton_atoms].sum()\n",
    "\n",
    "# Find out if there are hydroxyls\n",
    "freeProtons = nmrproblem.elements['H'] - nmrproblem.df.loc['integral',proton_atoms].sum()\n",
    "if DBE == 0:\n",
    "    if freeProtons > 0 and 'O' in nmrproblem.elements:\n",
    "        hydroxylsPresent = True\n",
    "        numHydroxyls=freeProtons\n",
    "        freeOxygens  = nmrproblem.elements['O'] - freeProtons\n",
    "\n",
    "# Remove alkenes from table if DBE due to oxygen\n",
    "#\n",
    "# oxygenDBE = True\n",
    "# print(H1df.shape, C13df.shape)\n",
    "if ((DBE == 1) or (DBE>=5 and elements['C'] > 6)) and (oxygenDBE):\n",
    "    # remove alkene groups\n",
    "\n",
    "    H1df = H1df[H1df.groupName != 'alkene']\n",
    "    H1df = H1df[H1df.substituent != 'alkene']\n",
    "    C13df = C13df[C13df.groupName != 'alkene']\n",
    "    C13df = C13df[C13df.substituent != 'alkene']\n",
    "\n",
    "# remove choices where atoms not present, N, O, S, Halogens, metals\n",
    "### protons\n",
    "\n",
    "for e in ['O','S','N']:\n",
    "    if e not in elements:\n",
    "        H1df=H1df[H1df[e]==0]\n",
    "    else:\n",
    "        H1df=H1df[H1df[e]<=elements[e]]\n",
    "\n",
    "no_halides = True\n",
    "\n",
    "halide_elements =[e for e in elements.keys() if e in ['F','Cl','Br', 'I']]\n",
    "if len(halide_elements)>0:\n",
    "    no_halides = False\n",
    "\n",
    "if no_halides:\n",
    "    H1df = H1df[H1df.substituent != 'halide']\n",
    "\n",
    "# remove metals from dataframe in none found\n",
    "no_Ms = True\n",
    "M_elements =[e for e in elements.keys() if e in M_substituents]\n",
    "if len(M_elements)>0:\n",
    "    no_Ms = False\n",
    "\n",
    "if no_Ms:\n",
    "    H1df = H1df[H1df.substituent != 'metal']\n",
    "\n",
    "### carbons\n",
    "\n",
    "for e in ['O','S','N','F', 'Cl', 'Br', 'I']:\n",
    "    if e not in elements:\n",
    "        C13df = C13df[C13df[e] == 0]\n",
    "    else:\n",
    "        C13df = C13df[C13df[e]<=elements[e]]\n",
    "\n",
    "# Now to reduce the choice further by using integrals, multiplicity.\n",
    "# This should now be done for individual peaks and the results kept separately\n",
    "\n",
    "# start with carbons\n",
    "#\n",
    "iprobs = {}\n",
    "for c in carbon_atoms:\n",
    "    kept_i = []\n",
    "    for i in C13df.index:\n",
    "        if int(nmrproblem.df.loc['C13 hyb', c]) in C13df.loc[i,'attached_protons']:\n",
    "            kept_i.append(i)\n",
    "    iprobs[c]=kept_i\n",
    "\n",
    "\n",
    "\n",
    "# if attached protons / hybr == 3 remove other guesses other than C13 methyl\n",
    "\n",
    "for c in carbon_atoms:\n",
    "    if nmrproblem.df.loc['C13 hyb', c] == 3:\n",
    "        kept_i = []\n",
    "        for i in iprobs[c]:\n",
    "            # if first pos in list is 3 then group in table is a methyl\n",
    "            if C13df.loc[i,'attached_protons'][0] == 3:\n",
    "                kept_i.append(i)\n",
    "        iprobs[c]=kept_i\n",
    "\n",
    "print(iprobs)\n",
    "\n",
    "## now reduce H1 options based on CH2, CH3, CH1\n",
    "## use the integral field in nmr properties table \n",
    "\n",
    "for h in proton_atoms:\n",
    "    kept_i = []\n",
    "    for i in H1df.index:\n",
    "        if nmrproblem.df.loc['C13 hyb', h] in H1df.loc[i,'num_protons']:\n",
    "            kept_i.append(i)\n",
    "    iprobs[h]=kept_i\n",
    "    \n",
    "print(iprobs)\n",
    "\n",
    "# check to see if proton is attached to a carbon\n",
    "#\n",
    "for h in proton_atoms:\n",
    "    kept_i = []\n",
    "    for i in iprobs[h]:\n",
    "        if (int(nmrproblem.df.loc['C13 hyb', h]) > 0) and (H1df.loc[i,'carbon_attached'] == 1):\n",
    "            kept_i.append(i)\n",
    "        elif (int(nmrproblem.df.loc['C13 hyb', h]) == 0) and (H1df.loc[i,'carbon_attached'] == 0):\n",
    "            kept_i.append(i)\n",
    "    iprobs[h]=kept_i\n",
    "\n",
    "# sort the candidates, highes first\n",
    "#\n",
    "for n, iii in iprobs.items():\n",
    "    # print(n,iii)\n",
    "#        sss = probDistFunctions.loc[iii, n].sort_values(ascending=False)\n",
    "#        iprobs[n]=sss.index.tolist()\n",
    "    if n in proton_atoms:\n",
    "        sss = H1df.loc[iii, n].sort_values(ascending=False)\n",
    "    elif n in carbon_atoms:\n",
    "        sss = C13df.loc[iii, n].sort_values(ascending=False)\n",
    "    iprobs[n]=sss.index.tolist()\n",
    "\n",
    "iprobs\n"
   ]
  },
  {
   "cell_type": "code",
   "execution_count": null,
   "metadata": {},
   "outputs": [],
   "source": [
    "createH1C13interactivePlot(widgets.Tab())"
   ]
  },
  {
   "cell_type": "code",
   "execution_count": null,
   "metadata": {},
   "outputs": [],
   "source": [
    "ffff = {}"
   ]
  },
  {
   "cell_type": "code",
   "execution_count": null,
   "metadata": {},
   "outputs": [],
   "source": [
    "ffff[0][]"
   ]
  },
  {
   "cell_type": "code",
   "execution_count": null,
   "metadata": {},
   "outputs": [],
   "source": [
    "plotC13Distributions(ipwidgetsGUI, 4, 3)"
   ]
  },
  {
   "cell_type": "code",
   "execution_count": null,
   "metadata": {},
   "outputs": [],
   "source": [
    "upload_problemdir  = ipywidgets.widgets.FileUpload(multiple=True, \n",
    "                                                        description=\"Open Existing Problem \",\n",
    "                                                        description_tooltip=\"choose all files in problem directory\",\n",
    "                                                        layout = widgets.Layout(width='300px'))\n",
    "\n",
    "\n",
    "problemNameL = widgets.Label(value=\"    Problem Name\",\n",
    "                            layout = widgets.Layout(width='100px'))\n",
    "\n",
    "spacerL = widgets.Label(value=\"    \",\n",
    "                            layout = widgets.Layout(width='50px'))\n",
    "\n",
    "problemNameW =widgets.Text(value=\"Problem Name\",\n",
    "                           description=\"\",\n",
    "                          layout = widgets.Layout(width='150px'))\n",
    "\n",
    "\n",
    "newproblemB = widgets.Button( description=\"Start New Problem\")\n",
    "\n",
    "prDirLayout = widgets.HBox([upload_problemdir,\n",
    "                            spacerL,\n",
    "                            problemNameL,\n",
    "                            problemNameW,\n",
    "                            spacerL,\n",
    "                            newproblemB])"
   ]
  },
  {
   "cell_type": "code",
   "execution_count": null,
   "metadata": {},
   "outputs": [],
   "source": [
    "prDirLayout"
   ]
  },
  {
   "cell_type": "code",
   "execution_count": null,
   "metadata": {},
   "outputs": [],
   "source": []
  },
  {
   "cell_type": "code",
   "execution_count": null,
   "metadata": {},
   "outputs": [],
   "source": [
    "www = widgets.Output()"
   ]
  },
  {
   "cell_type": "code",
   "execution_count": null,
   "metadata": {},
   "outputs": [],
   "source": [
    "with www:\n",
    "    print(\"Hello World\")"
   ]
  },
  {
   "cell_type": "code",
   "execution_count": null,
   "metadata": {},
   "outputs": [],
   "source": [
    "www"
   ]
  },
  {
   "cell_type": "code",
   "execution_count": null,
   "metadata": {},
   "outputs": [],
   "source": [
    "\"pr int\".replace(\" \", \"\")"
   ]
  },
  {
   "cell_type": "code",
   "execution_count": null,
   "metadata": {},
   "outputs": [],
   "source": [
    "tmpdir = tempfile.TemporaryDirectory()\n",
    "os.mkdir(os.path.join(tmpdir.name, \"test\"))\n",
    "nmrproblem = NMRproblem2(os.path.join(tmpdir.name, \"test\"))"
   ]
  },
  {
   "cell_type": "code",
   "execution_count": null,
   "metadata": {},
   "outputs": [],
   "source": [
    "print(dir(tmpdir))"
   ]
  },
  {
   "cell_type": "code",
   "execution_count": null,
   "metadata": {},
   "outputs": [],
   "source": [
    "os.listdir(tmpdir.name)"
   ]
  },
  {
   "cell_type": "code",
   "execution_count": null,
   "metadata": {},
   "outputs": [],
   "source": [
    "nmrproblem = NMRproblem2(os.path.join(tmpdir.name, \"test\"))"
   ]
  },
  {
   "cell_type": "code",
   "execution_count": null,
   "metadata": {},
   "outputs": [],
   "source": [
    "nmrproblem.df"
   ]
  },
  {
   "cell_type": "code",
   "execution_count": null,
   "metadata": {},
   "outputs": [],
   "source": []
  }
 ],
 "metadata": {
  "kernelspec": {
   "display_name": "Python 3",
   "language": "python",
   "name": "python3"
  },
  "language_info": {
   "codemirror_mode": {
    "name": "ipython",
    "version": 3
   },
   "file_extension": ".py",
   "mimetype": "text/x-python",
   "name": "python",
   "nbconvert_exporter": "python",
   "pygments_lexer": "ipython3",
   "version": "3.8.5"
  }
 },
 "nbformat": 4,
 "nbformat_minor": 4
}
